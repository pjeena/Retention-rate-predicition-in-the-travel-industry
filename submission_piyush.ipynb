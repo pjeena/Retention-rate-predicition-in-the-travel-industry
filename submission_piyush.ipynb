{
 "cells": [
  {
   "cell_type": "markdown",
   "metadata": {},
   "source": [
    "# Travel Retention Rate\n",
    "\n",
    "This is fictitious data from a possible company in the travel industry. Most customers only travel with the provider once in a lifetime. However, some customers are returning, these are called repeaters.\n",
    "\n",
    "In order to optimize the marketing, the customer would like to implement an NBO (Next-Best-Offer) system that predicts which of the previous customers have a high probability of returning in the next year. The goal is to exclude customers with a very low probability of repeating from marketing campaigns and thus reduce costs. E.g. for printed advertisements and catalogues.\n",
    "\n",
    "\n",
    "Bonus questions:\n",
    "\n",
    "• As an extension, the company is not only interested in whether, but also where (destination in the booking data) the repeaters will travel to. If you have an approach on how you would identify this “next best destination”, just add this briefly to the text concept. Really just the idea in a few words. PS: this extension gives the case its name as an NBO system.\n",
    "\n",
    "• As a further enhancement, the company would like to know when the customers would purchase the travel in order to send the customer an additional incentive at the right moment. Here, too, please only briefly one or more approaches in text form.\n",
    "\n",
    "\n",
    "\n",
    "**Expected output**\n",
    "\n",
    "\n",
    "o What kind of model should be estimated\n",
    "\n",
    "o What is the dependent variable and how is it calculated\n",
    "\n",
    "o What would be the structure of the final data frame used to estimate the model\n",
    "\n",
    "o What could be possible features, how could they be created\n",
    "\n",
    "o Which quality checks should be made to check the quality of the variables\n",
    "\n",
    "o How to test if the model has a good performance"
   ]
  },
  {
   "cell_type": "code",
   "execution_count": 4,
   "metadata": {},
   "outputs": [],
   "source": [
    "#!pip install numpy\n",
    "#!pip install pandas\n",
    "#!pip install -U scikit-learn\n",
    "#!pip install missingno\n",
    "#!pip install -U imbalanced-learn\n",
    "#!pip install seaborn\n",
    "#!pip install xgboost"
   ]
  },
  {
   "cell_type": "code",
   "execution_count": 5,
   "metadata": {},
   "outputs": [],
   "source": [
    "import warnings\n",
    "\n",
    "warnings.filterwarnings(\"ignore\")\n",
    "import numpy as np\n",
    "import pandas as pd\n",
    "import matplotlib.pyplot as plt\n",
    "import seaborn as sns\n",
    "import scipy.stats as stats\n",
    "from sklearn.model_selection import train_test_split\n",
    "from sklearn.tree import DecisionTreeClassifier\n",
    "from sklearn import metrics\n",
    "from sklearn.metrics import confusion_matrix, classification_report, accuracy_score, precision_score, recall_score, f1_score, roc_auc_score\n",
    "from sklearn.model_selection import GridSearchCV\n",
    "from sklearn.model_selection import cross_val_score\n",
    "from sklearn.pipeline import Pipeline\n",
    "from sklearn.naive_bayes import MultinomialNB\n",
    "from sklearn.linear_model import LogisticRegression\n",
    "from sklearn.svm import LinearSVC\n",
    "from sklearn.ensemble import BaggingClassifier,RandomForestClassifier, GradientBoostingClassifier, AdaBoostClassifier, StackingClassifier\n",
    "from sklearn.model_selection import GridSearchCV\n",
    "from xgboost import XGBClassifier\n",
    "from sklearn.metrics import confusion_matrix, classification_report, accuracy_score, precision_score, recall_score, f1_score, roc_auc_score\n",
    "from imblearn.ensemble import BalancedRandomForestClassifier, BalancedBaggingClassifier \n",
    "from xgboost import XGBClassifier\n",
    "\n",
    "\n",
    "pd.set_option(\"display.max_columns\", None)\n"
   ]
  },
  {
   "cell_type": "markdown",
   "metadata": {},
   "source": [
    "## Loading raw data as provided"
   ]
  },
  {
   "cell_type": "code",
   "execution_count": null,
   "metadata": {},
   "outputs": [],
   "source": [
    "df_variables_explained = pd.read_excel(\"Codebook.xlsx\")\n",
    "df_customer = pd.read_csv(\"kunden_daten.csv\", sep=\";\", encoding=\"latin-1\")\n",
    "df_booking = pd.read_csv(\"buchung_daten.csv\", sep=\";\", encoding=\"latin-1\")\n",
    "df_export = pd.read_csv(\"export_regio.csv\", sep=\";\", encoding=\"latin-1\")\n"
   ]
  }
 ],
 "metadata": {
  "kernelspec": {
   "display_name": "Python 3.9.12 ('submission': venv)",
   "language": "python",
   "name": "python3"
  },
  "language_info": {
   "codemirror_mode": {
    "name": "ipython",
    "version": 3
   },
   "file_extension": ".py",
   "mimetype": "text/x-python",
   "name": "python",
   "nbconvert_exporter": "python",
   "pygments_lexer": "ipython3",
   "version": "3.9.12"
  },
  "orig_nbformat": 4,
  "vscode": {
   "interpreter": {
    "hash": "b1c1632d605b79d9beffd4e11949b2eb5efb0ea44993fc03ec6cf90be1714b60"
   }
  }
 },
 "nbformat": 4,
 "nbformat_minor": 2
}
